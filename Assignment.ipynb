{
 "cells": [
  {
   "cell_type": "code",
   "execution_count": 1,
   "id": "cfae82eb",
   "metadata": {},
   "outputs": [
    {
     "data": {
      "text/plain": [
       "31"
      ]
     },
     "execution_count": 1,
     "metadata": {},
     "output_type": "execute_result"
    }
   ],
   "source": [
    "\n",
    "# create a .txt file --> example.txt\n",
    "# write a line --> This is placement assignment\n",
    "\n",
    "def create_txt(filename, content):\n",
    "    if filename.endswith('.txt'):\n",
    "        with open(f\"{filename}\", 'w') as file:\n",
    "            return file.write(f\"{content}\") \n",
    "    else:\n",
    "        return print('This is not a .txt file')\n",
    "create_txt(\"example.txt\", \"This is a placement assignment\")\n",
    "\n",
    "# replace string \n",
    "# original string --> placement \n",
    "# replace by --> screening\n",
    "\n",
    "def replace_str(filename, orgstr, newstr):\n",
    "    str1 = \"\"\n",
    "    with open(f\"{filename}\", 'r') as file:\n",
    "        str1 = str1 + file.readline()\n",
    "    \n",
    "    new_str = \"\"\n",
    "    for word in str1.split(\" \"):\n",
    "        if word == orgstr:\n",
    "            new_str = new_str + f\"{newstr} \"\n",
    "        else:\n",
    "            new_str = new_str + f\"{word} \"\n",
    "    \n",
    "    with open(f\"{filename}\", 'w') as file:\n",
    "            return file.write(f\"{new_str}\") \n",
    "\n",
    "replace_str(\"example.txt\", 'placement', 'screening')\n"
   ]
  },
  {
   "cell_type": "markdown",
   "id": "3a80a6b9",
   "metadata": {},
   "source": [
    "#### Abstract class\n",
    "An abstract class is the class which contains one or more abstract methods. \n",
    "An abstract method is the one which is just defined but not implemented.\n",
    "\n",
    "Suppose model.py a python file and regression is a function\n",
    "from model import regression"
   ]
  },
  {
   "cell_type": "code",
   "execution_count": null,
   "id": "25006ca3",
   "metadata": {},
   "outputs": [],
   "source": [
    "class new_model(regression):\n",
    "    pass\n"
   ]
  },
  {
   "cell_type": "markdown",
   "id": "ac44fc18",
   "metadata": {},
   "source": [
    "#### Multiple Inheritance\n",
    "multiple inheritance is the features of all the base classes are inherited into the derived class."
   ]
  },
  {
   "cell_type": "code",
   "execution_count": 3,
   "id": "a391eed7",
   "metadata": {},
   "outputs": [],
   "source": [
    "class boys:\n",
    "    pass\n",
    "\n",
    "class girls:\n",
    "    pass\n",
    "\n",
    "class students(boys, girls):\n",
    "    pass\n"
   ]
  },
  {
   "cell_type": "markdown",
   "id": "d50a7344",
   "metadata": {},
   "source": [
    "#### Decorator\n",
    "Decorators are one of the most helpful and powerful tools of Python. These are used to modify the behavior of the function. \n",
    "In Decorators, functions are passed as an argument into another function and then called inside the wrapper function.\n"
   ]
  },
  {
   "cell_type": "code",
   "execution_count": 2,
   "id": "a9169d39",
   "metadata": {},
   "outputs": [
    {
     "name": "stdout",
     "output_type": "stream",
     "text": [
      "move on\n",
      "move on\n"
     ]
    }
   ],
   "source": [
    "def fsds(ineuron):\n",
    "    return print(ineuron)\n",
    "\n",
    "fsds('move on')\n",
    "new_fsds = fsds\n",
    "new_fsds('move on')"
   ]
  }
 ],
 "metadata": {
  "interpreter": {
   "hash": "b302cdd1e032ee910f5c889c3360c28564c92ad4f326fc3102e39fbe47faee66"
  },
  "kernelspec": {
   "display_name": "Python 3.9.7 ('base')",
   "language": "python",
   "name": "python3"
  },
  "language_info": {
   "codemirror_mode": {
    "name": "ipython",
    "version": 3
   },
   "file_extension": ".py",
   "mimetype": "text/x-python",
   "name": "python",
   "nbconvert_exporter": "python",
   "pygments_lexer": "ipython3",
   "version": "3.9.7"
  }
 },
 "nbformat": 4,
 "nbformat_minor": 5
}
